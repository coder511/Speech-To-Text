{
 "cells": [
  {
   "cell_type": "markdown",
   "id": "9682c2a5",
   "metadata": {},
   "source": [
    "# Insatall and import dependencies"
   ]
  },
  {
   "cell_type": "code",
   "execution_count": 1,
   "id": "e7fb565c",
   "metadata": {},
   "outputs": [
    {
     "name": "stdout",
     "output_type": "stream",
     "text": [
      "Requirement already satisfied: ibm_watson in c:\\users\\vanshika\\appdata\\local\\programs\\python\\python310\\lib\\site-packages (6.0.0)\n",
      "Requirement already satisfied: requests<3.0,>=2.0 in c:\\users\\vanshika\\appdata\\local\\programs\\python\\python310\\lib\\site-packages (from ibm_watson) (2.27.1)\n",
      "Requirement already satisfied: ibm-cloud-sdk-core==3.*,>=3.3.6 in c:\\users\\vanshika\\appdata\\local\\programs\\python\\python310\\lib\\site-packages (from ibm_watson) (3.15.2)\n",
      "Requirement already satisfied: websocket-client==1.1.0 in c:\\users\\vanshika\\appdata\\local\\programs\\python\\python310\\lib\\site-packages (from ibm_watson) (1.1.0)\n",
      "Requirement already satisfied: python-dateutil>=2.5.3 in c:\\users\\vanshika\\appdata\\local\\programs\\python\\python310\\lib\\site-packages (from ibm_watson) (2.8.2)\n",
      "Requirement already satisfied: urllib3<2.0.0,>=1.26.0 in c:\\users\\vanshika\\appdata\\local\\programs\\python\\python310\\lib\\site-packages (from ibm-cloud-sdk-core==3.*,>=3.3.6->ibm_watson) (1.26.8)\n",
      "Requirement already satisfied: PyJWT<3.0.0,>=2.4.0 in c:\\users\\vanshika\\appdata\\local\\programs\\python\\python310\\lib\\site-packages (from ibm-cloud-sdk-core==3.*,>=3.3.6->ibm_watson) (2.4.0)\n",
      "Requirement already satisfied: six>=1.5 in c:\\users\\vanshika\\appdata\\local\\programs\\python\\python310\\lib\\site-packages (from python-dateutil>=2.5.3->ibm_watson) (1.16.0)\n",
      "Requirement already satisfied: idna<4,>=2.5 in c:\\users\\vanshika\\appdata\\local\\programs\\python\\python310\\lib\\site-packages (from requests<3.0,>=2.0->ibm_watson) (3.3)\n",
      "Requirement already satisfied: certifi>=2017.4.17 in c:\\users\\vanshika\\appdata\\local\\programs\\python\\python310\\lib\\site-packages (from requests<3.0,>=2.0->ibm_watson) (2021.10.8)\n",
      "Requirement already satisfied: charset-normalizer~=2.0.0 in c:\\users\\vanshika\\appdata\\local\\programs\\python\\python310\\lib\\site-packages (from requests<3.0,>=2.0->ibm_watson) (2.0.12)\n"
     ]
    },
    {
     "name": "stderr",
     "output_type": "stream",
     "text": [
      "WARNING: There was an error checking the latest version of pip.\n"
     ]
    }
   ],
   "source": [
    "!pip install ibm_watson"
   ]
  },
  {
   "cell_type": "code",
   "execution_count": 2,
   "id": "58ded488",
   "metadata": {},
   "outputs": [],
   "source": [
    "from ibm_watson import SpeechToTextV1\n",
    "from ibm_watson.websocket import RecognizeCallback, AudioSource \n",
    "from ibm_cloud_sdk_core.authenticators import IAMAuthenticator"
   ]
  },
  {
   "cell_type": "markdown",
   "id": "6dff5424",
   "metadata": {},
   "source": [
    "# Setup STT Service"
   ]
  },
  {
   "cell_type": "code",
   "execution_count": 3,
   "id": "08d5ed97",
   "metadata": {},
   "outputs": [],
   "source": [
    "apikey = 'h48cuLklA2QongPLvf9JR1EYGQ_GLtMUrlYSOm-KQLnH'\n",
    "url = 'https://api.eu-gb.speech-to-text.watson.cloud.ibm.com/instances/0809fe6c-2f83-4232-8451-7aab6a751eb5'"
   ]
  },
  {
   "cell_type": "code",
   "execution_count": 4,
   "id": "f86e49a5",
   "metadata": {},
   "outputs": [],
   "source": [
    "# Setup Service\n",
    "authenticator = IAMAuthenticator(apikey)\n",
    "stt = SpeechToTextV1(authenticator=authenticator) #instance of speech to text class\n",
    "stt.set_service_url(url)"
   ]
  },
  {
   "cell_type": "markdown",
   "id": "1bf631ff",
   "metadata": {},
   "source": [
    "# Open Audio and Convert"
   ]
  },
  {
   "cell_type": "code",
   "execution_count": 13,
   "id": "512a41b1",
   "metadata": {},
   "outputs": [],
   "source": [
    "# Perform conversion\n",
    "with open('Sample.mp3', 'rb') as f:\n",
    "    res = stt.recognize(audio=f, content_type='audio/mp3', model='en-US_NarrowbandModel').get_result()"
   ]
  },
  {
   "cell_type": "code",
   "execution_count": 14,
   "id": "14f33b6a",
   "metadata": {},
   "outputs": [
    {
     "data": {
      "text/plain": [
       "{'result_index': 0,\n",
       " 'results': [{'final': True,\n",
       "   'alternatives': [{'transcript': 'from childhood ', 'confidence': 0.95}]},\n",
       "  {'final': True,\n",
       "   'alternatives': [{'transcript': \"I'm not being \", 'confidence': 0.13}]},\n",
       "  {'final': True,\n",
       "   'alternatives': [{'transcript': 'I have not seen ', 'confidence': 0.95}]},\n",
       "  {'final': True,\n",
       "   'alternatives': [{'transcript': 'I could not bring the same shows taking place so ',\n",
       "     'confidence': 0.39}]},\n",
       "  {'final': True,\n",
       "   'alternatives': [{'transcript': 'I could not to ache in my two children at the same ',\n",
       "     'confidence': 0.57}]}]}"
      ]
     },
     "execution_count": 14,
     "metadata": {},
     "output_type": "execute_result"
    }
   ],
   "source": [
    "res"
   ]
  },
  {
   "cell_type": "code",
   "execution_count": 15,
   "id": "88ded55f",
   "metadata": {},
   "outputs": [
    {
     "data": {
      "text/plain": [
       "'from childhood '"
      ]
     },
     "execution_count": 15,
     "metadata": {},
     "output_type": "execute_result"
    }
   ],
   "source": [
    "text = res['results'][0]['alternatives'][0]['transcript']\n",
    "text"
   ]
  },
  {
   "cell_type": "code",
   "execution_count": 16,
   "id": "1a07319f",
   "metadata": {},
   "outputs": [
    {
     "data": {
      "text/plain": [
       "0.95"
      ]
     },
     "execution_count": 16,
     "metadata": {},
     "output_type": "execute_result"
    }
   ],
   "source": [
    "confidence = res['results'][0]['alternatives'][0]['confidence']\n",
    "confidence"
   ]
  },
  {
   "cell_type": "code",
   "execution_count": 17,
   "id": "c6652497",
   "metadata": {},
   "outputs": [],
   "source": [
    "with open('output.txt', 'w') as out:\n",
    "    out.writelines(text)"
   ]
  },
  {
   "cell_type": "code",
   "execution_count": null,
   "id": "a479a77a",
   "metadata": {},
   "outputs": [],
   "source": []
  }
 ],
 "metadata": {
  "kernelspec": {
   "display_name": "Python 3 (ipykernel)",
   "language": "python",
   "name": "python3"
  },
  "language_info": {
   "codemirror_mode": {
    "name": "ipython",
    "version": 3
   },
   "file_extension": ".py",
   "mimetype": "text/x-python",
   "name": "python",
   "nbconvert_exporter": "python",
   "pygments_lexer": "ipython3",
   "version": "3.10.4"
  }
 },
 "nbformat": 4,
 "nbformat_minor": 5
}
